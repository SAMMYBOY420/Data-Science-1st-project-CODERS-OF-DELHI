{
 "cells": [
  {
   "cell_type": "code",
   "execution_count": null,
   "id": "5a569738",
   "metadata": {},
   "outputs": [
    {
     "name": "stdout",
     "output_type": "stream",
     "text": [
      "2\n",
      "2\n",
      "2\n",
      "2\n",
      "2\n",
      "3\n",
      "3\n",
      "3\n",
      "3\n",
      "3\n",
      "4\n",
      "4\n",
      "4\n",
      "4\n",
      "4\n",
      "5\n",
      "5\n",
      "5\n",
      "5\n",
      "5\n",
      "6\n",
      "6\n",
      "6\n",
      "6\n",
      "6\n"
     ]
    }
   ],
   "source": [
    "import json\n",
    "\n",
    "def Load_Data(File_name):\n",
    "    with open(File_name,'r') as f:\n",
    "        return json.load(f)\n",
    "\n",
    "def Friends_you_may_know(User_id,data):\n",
    "    user_friends={}\n",
    "    #friend Dictionary\n",
    "    for user in data['users']:\n",
    "        user_friends[user['id']]=set(user['friends'])\n",
    "        \n",
    "    if User_id not in user_friends:#not value but we target key\n",
    "        return []\n",
    "    \n",
    "    direct_friends=user_friends[User_id]\n",
    "    \n",
    "    suggestions={}\n",
    "    for friend in direct_friends:\n",
    "        # For all friends of friend\n",
    "        for mutual in user_friends[friend]:\n",
    "            # If mutual id is not the same user and not already a direct friend of user\n",
    "            if mutual != User_id and mutual not in direct_friends:\n",
    "                # Count mutual friends\n",
    "                suggestions[mutual] = suggestions.get(mutual, 0) + 1\n",
    "    sorted_suggestions = sorted(suggestions.items(), key=lambda x: x[1], reverse=True)#x[0]=key(userid,connection) sort on the bases of mututalfriends number thats what the key means\n",
    "    return [user_id for user_id, _ in sorted_suggestions]\n",
    "\n",
    "\n",
    "def Store_data(File_name,data):\n",
    "    with open(File_name,\"w\") as f:\n",
    "        json.dump(data,f,indent=4)\n",
    "\n",
    "data=Load_Data(\"massive_data_3.json\")\n",
    "User_id=1\n",
    "reccomendataion=Friends_you_may_know(User_id,data)\n",
    "# print(reccomendataion)\n"
   ]
  }
 ],
 "metadata": {
  "kernelspec": {
   "display_name": "sammyenv",
   "language": "python",
   "name": "python3"
  },
  "language_info": {
   "codemirror_mode": {
    "name": "ipython",
    "version": 3
   },
   "file_extension": ".py",
   "mimetype": "text/x-python",
   "name": "python",
   "nbconvert_exporter": "python",
   "pygments_lexer": "ipython3",
   "version": "3.13.5"
  }
 },
 "nbformat": 4,
 "nbformat_minor": 5
}
