a="Hell1o"


print(a)


print("XoXo")
