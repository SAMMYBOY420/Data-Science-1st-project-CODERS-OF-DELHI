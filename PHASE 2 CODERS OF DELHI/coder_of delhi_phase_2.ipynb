{
 "cells": [
  {
   "cell_type": "markdown",
   "id": "758c8ea5",
   "metadata": {},
   "source": [
    "# PHASE 2\n"
   ]
  },
  {
   "cell_type": "code",
   "execution_count": 8,
   "id": "e5cf6940",
   "metadata": {},
   "outputs": [],
   "source": [
    "#Loading Data\n",
    "import json\n",
    "\n",
    "def Load_data(Data):\n",
    "    with open(Data,'r') as f:\n",
    "        parsed_data=json.load(f)\n",
    "    return parsed_data\n",
    "\n",
    "data=Load_data('codes2.json')\n",
    "\n"
   ]
  },
  {
   "cell_type": "code",
   "execution_count": 9,
   "id": "ac00203d",
   "metadata": {},
   "outputs": [
    {
     "name": "stdout",
     "output_type": "stream",
     "text": [
      "DATA CLEANED SUCCESFULLY\n"
     ]
    }
   ],
   "source": [
    "def Clean_Data(data):\n",
    "    #No name removal\n",
    "    cleaned_users=[]\n",
    "    for user in data['users']:\n",
    "        if user['name'].strip():\n",
    "            cleaned_users.append(user)\n",
    "    data['users']=cleaned_users\n",
    "\n",
    "    #duplicate Friends\n",
    "    for user in data['users']:\n",
    "        user['friends']=list(set(user['friends']))\n",
    "    \n",
    "    #inactive user removal\n",
    "    cleaned=[]\n",
    "    for user in data['users']:\n",
    "        if user['liked_pages'] or user['friends']:\n",
    "            cleaned.append(user)\n",
    "    data['users']=cleaned\n",
    "    #duplicate pages\n",
    "    unique_pages={}\n",
    "    for pages in data['pages']:\n",
    "        unique_pages[pages['id']]=pages\n",
    "    data['pages']=list(unique_pages.values())\n",
    "\n",
    "    return data\n",
    "data=Clean_Data(data)\n",
    "\n",
    "def Write_File(data):\n",
    "    json.dump(data, open(\"Cleaned_data_Phase_2.json\", \"w\"), indent=4)\n",
    "   \n",
    "      \n",
    "clear_data=Write_File(data)\n",
    "print(\"DATA CLEANED SUCCESFULLY\")\n"
   ]
  }
 ],
 "metadata": {
  "kernelspec": {
   "display_name": "sammyenv",
   "language": "python",
   "name": "python3"
  },
  "language_info": {
   "codemirror_mode": {
    "name": "ipython",
    "version": 3
   },
   "file_extension": ".py",
   "mimetype": "text/x-python",
   "name": "python",
   "nbconvert_exporter": "python",
   "pygments_lexer": "ipython3",
   "version": "3.13.5"
  }
 },
 "nbformat": 4,
 "nbformat_minor": 5
}
