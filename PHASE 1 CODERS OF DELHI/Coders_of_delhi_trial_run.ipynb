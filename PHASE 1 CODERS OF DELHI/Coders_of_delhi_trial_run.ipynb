{
 "cells": [
  {
   "cell_type": "markdown",
   "id": "aa9d21e7-7836-437d-8dbc-e520cc428f1f",
   "metadata": {},
   "source": [
    "\n",
    "import matplotlib.pyplot as plt\n",
    "plt.plot([1, 2, 3], [4, 5, 6])\n",
    "plt.show()"
   ]
  },
  {
   "cell_type": "markdown",
   "id": "3ab87013-8f48-4bb6-a227-4be71664878b",
   "metadata": {},
   "source": [
    "# Normal loading of data\n",
    "\n",
    "with open('CODE.json','r') as cody:<br>\n",
    "    <&nbsp;&nbsp;&nbsp;&nbsp;>content=cody.read()<br>\n",
    "    <&nbsp;&nbsp;&nbsp;&nbsp;>print(content)\n",
    "\n",
    "&nbsp;&nbsp;&nbsp;&nbsp; -give space"
   ]
  },
  {
   "cell_type": "code",
   "execution_count": 17,
   "id": "4b11bc9e-21a0-434b-a415-53d1446b3d20",
   "metadata": {},
   "outputs": [],
   "source": [
    "#function to load data from json to dictionary\n",
    "import json\n",
    "def Load_data(FileName):\n",
    "    with open(FileName,\"r\") as f:\n",
    "        data=json.load(f)\n",
    "    return data\n",
    "\n"
   ]
  },
  {
   "cell_type": "code",
   "execution_count": 31,
   "id": "2689052c-5e48-4276-91bb-9fb9f83f0016",
   "metadata": {},
   "outputs": [
    {
     "data": {
      "text/plain": [
       "{'users': [{'id': 1, 'name': 'Amit', 'friends': [2, 3], 'liked_pages': [101]},\n",
       "  {'id': 2, 'name': 'Priya', 'friends': [1, 4], 'liked_pages': [102]},\n",
       "  {'id': 3, 'name': 'Rahul', 'friends': [1], 'liked_pages': [101, 103]},\n",
       "  {'id': 4, 'name': 'Sara', 'friends': [2], 'liked_pages': [104]}],\n",
       " 'pages': [{'id': 101, 'name': 'Python Developers'},\n",
       "  {'id': 102, 'name': 'Data Science Enthusiasts'},\n",
       "  {'id': 103, 'name': 'AI & ML Community'},\n",
       "  {'id': 104, 'name': 'Web Dev Hub'}]}"
      ]
     },
     "execution_count": 31,
     "metadata": {},
     "output_type": "execute_result"
    }
   ],
   "source": [
    "def Friends(friend_ids):\n",
    "    names=[]\n",
    "    for friend_id in friend_ids:\n",
    "        for users in data['users']:\n",
    "            if users['id']==friend_id:\n",
    "                names.append(users['name'])\n",
    "                break\n",
    "    return \", \".join(names)\n",
    "    \n",
    "# def Pages(Page_ids):\n",
    "#     pages=[]\n",
    "#     for page_id in Page_ids:\n",
    "#         for users in data['users']:\n",
    "#             if page_id in users['liked_pages']:\n",
    "#                 pages.append(users['liked_pages'])\n",
    "#                 break\n",
    "#     return \". \".join(pages)\n",
    "def Pages(Page_ids):\n",
    "    pages = []\n",
    "    for page_id in Page_ids:\n",
    "        for page in data['pages']:\n",
    "            if page['id'] == page_id:\n",
    "                pages.append(page['name'])\n",
    "                break\n",
    "    return \". \".join(pages)\n",
    "data=Load_data(\"CODE.json\")\n",
    "data\n"
   ]
  },
  {
   "cell_type": "code",
   "execution_count": 34,
   "id": "43a5269b-f417-4911-b0a6-350a5aa4bba2",
   "metadata": {},
   "outputs": [
    {
     "name": "stdout",
     "output_type": "stream",
     "text": [
      "User 1 is Amit and friends with Priya, Rahul and has liked Python Developers\n",
      "User 2 is Priya and friends with Amit, Sara and has liked Data Science Enthusiasts\n",
      "User 3 is Rahul and friends with Amit and has liked Python Developers. AI & ML Community\n",
      "User 4 is Sara and friends with Priya and has liked Web Dev Hub\n",
      "\n",
      "\n",
      "101 is-> Python Developers\n",
      "102 is-> Data Science Enthusiasts\n",
      "103 is-> AI & ML Community\n",
      "104 is-> Web Dev Hub\n"
     ]
    }
   ],
   "source": [
    "#function to display users and there connections\n",
    "def Show_Data(data):\n",
    "    for users in data['users']:\n",
    "        print(f\"User {users['id']} is {users['name']} and friends with {Friends(users['friends'])} and has liked {Pages(users['liked_pages'])}\")    \n",
    "    print(\"\\n\")\n",
    "    for pages in data['pages']:\n",
    "        print(f\"{pages['id']} is-> {pages['name']}\")\n",
    "\n",
    "Show_Data(data)\n",
    "   "
   ]
  }
 ],
 "metadata": {
  "kernelspec": {
   "display_name": "sammyenv",
   "language": "python",
   "name": "python3"
  },
  "language_info": {
   "codemirror_mode": {
    "name": "ipython",
    "version": 3
   },
   "file_extension": ".py",
   "mimetype": "text/x-python",
   "name": "python",
   "nbconvert_exporter": "python",
   "pygments_lexer": "ipython3",
   "version": "3.13.5"
  }
 },
 "nbformat": 4,
 "nbformat_minor": 5
}
