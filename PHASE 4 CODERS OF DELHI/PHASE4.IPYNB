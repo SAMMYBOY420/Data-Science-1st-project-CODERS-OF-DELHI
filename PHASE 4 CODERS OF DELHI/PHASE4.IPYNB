{
 "cells": [
  {
   "cell_type": "markdown",
   "id": "c19d316a",
   "metadata": {},
   "source": [
    "# PHASE 4 PAGES YOU MIGHT LIKE"
   ]
  },
  {
   "cell_type": "code",
   "execution_count": 3,
   "id": "66b2d337",
   "metadata": {},
   "outputs": [
    {
     "name": "stdout",
     "output_type": "stream",
     "text": [
      "[(103, 2), (105, 1), (107, 1), (104, 0), (106, 0), (108, 0), (109, 0), (110, 0), (111, 0), (112, 0), (113, 0), (114, 0), (115, 0), (116, 0), (117, 0), (118, 0), (119, 0), (120, 0), (121, 0), (122, 0), (123, 0), (124, 0), (125, 0), (126, 0), (127, 0)]\n"
     ]
    }
   ],
   "source": [
    "import json\n",
    "\n",
    "def Load_Data(File):\n",
    "    with open(File,'r') as f:\n",
    "        return json.load(f)\n",
    "def Find_pages_you_may_like(user_id,data):\n",
    "    #teh pages that a person likes in  a dictionary format\n",
    "    user_pages={}\n",
    "    for user in data['users']:\n",
    "        user_pages[user['id']]=set(user['liked_pages'])\n",
    "\n",
    "    #if user isnt in the data\n",
    "    if user_id not in user_pages:\n",
    "        return []\n",
    "    #store pages in a variable as a list direct pages\n",
    "    user_liked_pages=user_pages[user_id]\n",
    "\n",
    "    page_suggestions={}\n",
    "\n",
    "    for other_users,pages in user_pages.items():\n",
    "        #make sure that we aren't taking the same user we are targettting different users\n",
    "        if other_users!=user_id:\n",
    "            #this help in taking the common pages of them\n",
    "            shared_pages=user_liked_pages.intersection(pages)\n",
    "        #iterate through a users pages\n",
    "        for page in pages:\n",
    "            if page not in user_liked_pages:\n",
    "                page_suggestions[page]=page_suggestions.get(page,0) + len(shared_pages)\n",
    "\n",
    "    sorted_pages=sorted(page_suggestions.items(),key=lambda x : x[1],reverse=True)\n",
    "    return [(page_id,score) for page_id , score in sorted_pages]\n",
    "\n",
    "data = Load_Data(\"massive_data_3.json\")\n",
    "user_id=int(input(\"Enter user id to recommend him the pages he might like: \"))\n",
    "page_recommendation=Find_pages_you_may_like(user_id,data)\n",
    "print(page_recommendation)\n",
    "\n",
    "\n",
    "    \n"
   ]
  }
 ],
 "metadata": {
  "kernelspec": {
   "display_name": "sammyenv",
   "language": "python",
   "name": "python3"
  },
  "language_info": {
   "codemirror_mode": {
    "name": "ipython",
    "version": 3
   },
   "file_extension": ".py",
   "mimetype": "text/x-python",
   "name": "python",
   "nbconvert_exporter": "python",
   "pygments_lexer": "ipython3",
   "version": "3.13.5"
  }
 },
 "nbformat": 4,
 "nbformat_minor": 5
}
